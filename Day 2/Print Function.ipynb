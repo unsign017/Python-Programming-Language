{
 "cells": [
  {
   "cell_type": "code",
   "execution_count": 16,
   "id": "7de78df2-d779-4640-9e6e-707dc800ee31",
   "metadata": {},
   "outputs": [
    {
     "name": "stdout",
     "output_type": "stream",
     "text": [
      "My Name is Nasim Sarkar Home District is Narsingdi\n"
     ]
    }
   ],
   "source": [
    "#for output using print() function\n",
    "\n",
    "print('My Name is Nasim Sarkar', 'Home District is Narsingdi')"
   ]
  },
  {
   "cell_type": "code",
   "execution_count": 15,
   "id": "e038c1de-087d-40bf-9b00-b27950e699bf",
   "metadata": {},
   "outputs": [
    {
     "name": "stdout",
     "output_type": "stream",
     "text": [
      "Hello World $ Welcome to the 60 days of Python|"
     ]
    }
   ],
   "source": [
    "#for parameter using shift+tab\n",
    "\n",
    "print('Hello World' , 'Welcome to the 60 days of Python', sep=' $ ', end='|') "
   ]
  },
  {
   "cell_type": "code",
   "execution_count": 12,
   "id": "75466ddd-665e-419e-b40f-36af44d241fb",
   "metadata": {},
   "outputs": [
    {
     "name": "stdout",
     "output_type": "stream",
     "text": [
      "Md. Nasim Sarkar & CSE & University of Barishal & Barishal ***"
     ]
    }
   ],
   "source": [
    "print('Md. Nasim Sarkar', 'CSE', 'University of Barishal', 'Barishal', sep=' & ', end=' ***')"
   ]
  },
  {
   "cell_type": "code",
   "execution_count": 14,
   "id": "eafc4fa9-89c8-48a3-8870-a4ac96fcafb2",
   "metadata": {},
   "outputs": [
    {
     "name": "stdout",
     "output_type": "stream",
     "text": [
      "12\n",
      "-1\n",
      "72\n",
      "2.0\n",
      "1\n"
     ]
    }
   ],
   "source": [
    "print(5+7, 6-7, 8*9, 120/60, 10%3, sep='\\n' )"
   ]
  },
  {
   "cell_type": "code",
   "execution_count": null,
   "id": "18fda458-bf08-4bdb-93b9-62c0cc316b54",
   "metadata": {},
   "outputs": [],
   "source": []
  }
 ],
 "metadata": {
  "kernelspec": {
   "display_name": "Python 3 (ipykernel)",
   "language": "python",
   "name": "python3"
  },
  "language_info": {
   "codemirror_mode": {
    "name": "ipython",
    "version": 3
   },
   "file_extension": ".py",
   "mimetype": "text/x-python",
   "name": "python",
   "nbconvert_exporter": "python",
   "pygments_lexer": "ipython3",
   "version": "3.12.4"
  }
 },
 "nbformat": 4,
 "nbformat_minor": 5
}
