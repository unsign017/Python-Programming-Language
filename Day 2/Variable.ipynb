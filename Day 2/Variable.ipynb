{
 "cells": [
  {
   "cell_type": "code",
   "execution_count": 1,
   "id": "9b08a482-e711-468d-94bc-58e1239c382c",
   "metadata": {},
   "outputs": [],
   "source": [
    "#variables are like a container storing data.\n",
    "#compare to other programming languages, Python has no command for declaring a variable.\n",
    "#A variable is created the moment you first assign a value to it.\n",
    "\n",
    "\n",
    "#Condition for a valid variable : (A variable can have a short name (like x or y) or a more descriptive a name.\n",
    "# 1. A variable name must start with a letter or underscore ( _ ) character.\n",
    "# 2. A variable name can't start with a number.\n",
    "# 3. A variable name can contain only alpha-numeric characters and underscore (A-Z, 0-9, _).\n",
    "# 4. Variable names are case-sensitive. (X, X, _X three are different variable names.)\n",
    "\n",
    "# Valid Example                Invalid Example\n",
    "# Var=100                       9Var='data science'\n",
    "# Var2=100                      Var-2=100\n",
    "# _var=20                       &var=20\n",
    "# V1a2r3='data science'         My Name='Nasim'\n",
    "# My_Name='Nasim'"
   ]
  },
  {
   "cell_type": "code",
   "execution_count": 4,
   "id": "3b5e5983-a814-4c6c-b5d2-6f80bd82e95a",
   "metadata": {},
   "outputs": [
    {
     "name": "stdout",
     "output_type": "stream",
     "text": [
      "Hello World\n",
      "var\n"
     ]
    }
   ],
   "source": [
    "var='Hello World'\n",
    "print(var)  #print variable not use ''\n",
    "print('var') #print just string use '' (String is a set of character)"
   ]
  },
  {
   "cell_type": "code",
   "execution_count": 9,
   "id": "f2268cef-8294-4951-8383-89c2e443a3fd",
   "metadata": {},
   "outputs": [
    {
     "name": "stdout",
     "output_type": "stream",
     "text": [
      "My sentence is Hello World\n"
     ]
    }
   ],
   "source": [
    "print('My sentence is ' +var)"
   ]
  },
  {
   "cell_type": "code",
   "execution_count": 5,
   "id": "4a5c408c-ad7d-4bb0-8e90-9591b61b3b4c",
   "metadata": {},
   "outputs": [
    {
     "data": {
      "text/plain": [
       "4432754864"
      ]
     },
     "execution_count": 5,
     "metadata": {},
     "output_type": "execute_result"
    }
   ],
   "source": [
    "id(var) #to know memory location"
   ]
  },
  {
   "cell_type": "code",
   "execution_count": 6,
   "id": "9819bda3-baa0-4bef-8a94-84ebabd0c2c2",
   "metadata": {},
   "outputs": [
    {
     "data": {
      "text/plain": [
       "52"
      ]
     },
     "execution_count": 6,
     "metadata": {},
     "output_type": "execute_result"
    }
   ],
   "source": [
    "import sys\n",
    "sys.getsizeof(var) #to know memory size which occupied by variable."
   ]
  },
  {
   "cell_type": "code",
   "execution_count": 12,
   "id": "bb57df0d-f8e7-410f-a464-ec8c1234f846",
   "metadata": {},
   "outputs": [
    {
     "data": {
      "text/plain": [
       "100"
      ]
     },
     "execution_count": 12,
     "metadata": {},
     "output_type": "execute_result"
    }
   ],
   "source": [
    "var=100\n",
    "var"
   ]
  },
  {
   "cell_type": "code",
   "execution_count": 15,
   "id": "9ecc0548-b5aa-4ce9-9ea5-f49c655cd9b7",
   "metadata": {},
   "outputs": [
    {
     "data": {
      "text/plain": [
       "100"
      ]
     },
     "execution_count": 15,
     "metadata": {},
     "output_type": "execute_result"
    }
   ],
   "source": [
    "x=100\n",
    "y=100\n",
    "x\n",
    "y"
   ]
  },
  {
   "cell_type": "code",
   "execution_count": 23,
   "id": "442188d4-eaf1-483f-9343-e6c194baf452",
   "metadata": {},
   "outputs": [
    {
     "name": "stdout",
     "output_type": "stream",
     "text": [
      "1222\n"
     ]
    }
   ],
   "source": [
    "var9=1222\n",
    "print(var9)"
   ]
  },
  {
   "cell_type": "code",
   "execution_count": 24,
   "id": "8a4563f7-0286-4092-a97a-0d7a9dd92f90",
   "metadata": {},
   "outputs": [
    {
     "ename": "SyntaxError",
     "evalue": "invalid decimal literal (3077864922.py, line 1)",
     "output_type": "error",
     "traceback": [
      "\u001b[0;36m  Cell \u001b[0;32mIn[24], line 1\u001b[0;36m\u001b[0m\n\u001b[0;31m    9var='data science'\u001b[0m\n\u001b[0m    ^\u001b[0m\n\u001b[0;31mSyntaxError\u001b[0m\u001b[0;31m:\u001b[0m invalid decimal literal\n"
     ]
    }
   ],
   "source": [
    "9var='data science'\n",
    "9var"
   ]
  },
  {
   "cell_type": "code",
   "execution_count": 25,
   "id": "bb359a3a-ee1b-40c5-b948-5df5ef7261c3",
   "metadata": {},
   "outputs": [
    {
     "data": {
      "text/plain": [
       "'data science'"
      ]
     },
     "execution_count": 25,
     "metadata": {},
     "output_type": "execute_result"
    }
   ],
   "source": [
    "Var9='data science'\n",
    "Var9"
   ]
  },
  {
   "cell_type": "code",
   "execution_count": 28,
   "id": "2c0059d1-d3f3-429e-9f9a-7207dd27baf6",
   "metadata": {},
   "outputs": [
    {
     "ename": "SyntaxError",
     "evalue": "cannot assign to expression here. Maybe you meant '==' instead of '='? (2188155451.py, line 1)",
     "output_type": "error",
     "traceback": [
      "\u001b[0;36m  Cell \u001b[0;32mIn[28], line 1\u001b[0;36m\u001b[0m\n\u001b[0;31m    Var-3=102\u001b[0m\n\u001b[0m    ^\u001b[0m\n\u001b[0;31mSyntaxError\u001b[0m\u001b[0;31m:\u001b[0m cannot assign to expression here. Maybe you meant '==' instead of '='?\n"
     ]
    }
   ],
   "source": [
    "Var-3=102\n",
    "&Var=112\n",
    "My Name='Nasim'\n",
    "Var-3"
   ]
  },
  {
   "cell_type": "code",
   "execution_count": 29,
   "id": "6dea0a79-199d-4543-8497-08142a5f570d",
   "metadata": {},
   "outputs": [
    {
     "ename": "SyntaxError",
     "evalue": "invalid syntax (2111728627.py, line 1)",
     "output_type": "error",
     "traceback": [
      "\u001b[0;36m  Cell \u001b[0;32mIn[29], line 1\u001b[0;36m\u001b[0m\n\u001b[0;31m    &Var\u001b[0m\n\u001b[0m    ^\u001b[0m\n\u001b[0;31mSyntaxError\u001b[0m\u001b[0;31m:\u001b[0m invalid syntax\n"
     ]
    }
   ],
   "source": [
    "&Var"
   ]
  },
  {
   "cell_type": "code",
   "execution_count": 30,
   "id": "6f9d7067-cc60-4a3d-92c5-0c1988333735",
   "metadata": {},
   "outputs": [
    {
     "ename": "SyntaxError",
     "evalue": "invalid syntax (3715824073.py, line 1)",
     "output_type": "error",
     "traceback": [
      "\u001b[0;36m  Cell \u001b[0;32mIn[30], line 1\u001b[0;36m\u001b[0m\n\u001b[0;31m    My Name\u001b[0m\n\u001b[0m       ^\u001b[0m\n\u001b[0;31mSyntaxError\u001b[0m\u001b[0;31m:\u001b[0m invalid syntax\n"
     ]
    }
   ],
   "source": [
    "My Name"
   ]
  },
  {
   "cell_type": "code",
   "execution_count": 31,
   "id": "2f959723-933d-4f11-8a29-5ef8be6be1ff",
   "metadata": {},
   "outputs": [
    {
     "data": {
      "text/plain": [
       "'Nasim'"
      ]
     },
     "execution_count": 31,
     "metadata": {},
     "output_type": "execute_result"
    }
   ],
   "source": [
    "Var_3=102\n",
    "_Var=112\n",
    "My_Name='Nasim'\n",
    "print(Var_3)\n",
    "_Var\n",
    "My_Name"
   ]
  },
  {
   "cell_type": "code",
   "execution_count": 32,
   "id": "33ae80e9-373c-4759-a5b0-4d790a2be7d4",
   "metadata": {},
   "outputs": [
    {
     "data": {
      "text/plain": [
       "102"
      ]
     },
     "execution_count": 32,
     "metadata": {},
     "output_type": "execute_result"
    }
   ],
   "source": [
    "Var_3"
   ]
  },
  {
   "cell_type": "code",
   "execution_count": 33,
   "id": "58a35aa3-59fa-46db-b6e6-2ac3f1112c57",
   "metadata": {},
   "outputs": [
    {
     "data": {
      "text/plain": [
       "112"
      ]
     },
     "execution_count": 33,
     "metadata": {},
     "output_type": "execute_result"
    }
   ],
   "source": [
    "_Var"
   ]
  },
  {
   "cell_type": "code",
   "execution_count": 16,
   "id": "06ea8857-4b44-489e-8655-db1f303f5dbd",
   "metadata": {},
   "outputs": [
    {
     "data": {
      "text/plain": [
       "4380962504"
      ]
     },
     "execution_count": 16,
     "metadata": {},
     "output_type": "execute_result"
    }
   ],
   "source": [
    "id(x)"
   ]
  },
  {
   "cell_type": "code",
   "execution_count": 17,
   "id": "47c02e25-2f56-4989-9b10-17e7cf567448",
   "metadata": {},
   "outputs": [
    {
     "data": {
      "text/plain": [
       "4380962504"
      ]
     },
     "execution_count": 17,
     "metadata": {},
     "output_type": "execute_result"
    }
   ],
   "source": [
    "id(y)"
   ]
  },
  {
   "cell_type": "code",
   "execution_count": 18,
   "id": "72171751-5d14-4c94-8f76-b37bd3343586",
   "metadata": {},
   "outputs": [
    {
     "data": {
      "text/plain": [
       "4380962504"
      ]
     },
     "execution_count": 18,
     "metadata": {},
     "output_type": "execute_result"
    }
   ],
   "source": [
    "id(x)\n",
    "id(y)"
   ]
  },
  {
   "cell_type": "code",
   "execution_count": 21,
   "id": "840b1213-387a-489c-a2da-f6e4a5884b22",
   "metadata": {},
   "outputs": [
    {
     "data": {
      "text/plain": [
       "4380963176"
      ]
     },
     "execution_count": 21,
     "metadata": {},
     "output_type": "execute_result"
    }
   ],
   "source": [
    "x=10000\n",
    "y=10000\n",
    "z=121\n",
    "id(x)\n",
    "id(y)\n",
    "id(z)"
   ]
  },
  {
   "cell_type": "code",
   "execution_count": 34,
   "id": "0db74704-4b46-46e0-8444-aa527c10cdb3",
   "metadata": {},
   "outputs": [],
   "source": [
    "# Multiple Variable\n",
    "\n",
    "x, y, z=100, 140, 120"
   ]
  },
  {
   "cell_type": "code",
   "execution_count": 35,
   "id": "c9852bd6-d99a-414e-a3ee-082eefc5892c",
   "metadata": {},
   "outputs": [
    {
     "data": {
      "text/plain": [
       "100"
      ]
     },
     "execution_count": 35,
     "metadata": {},
     "output_type": "execute_result"
    }
   ],
   "source": [
    "x"
   ]
  },
  {
   "cell_type": "code",
   "execution_count": 36,
   "id": "9ddf0174-493c-4327-b01d-57df2a754f5a",
   "metadata": {},
   "outputs": [
    {
     "data": {
      "text/plain": [
       "140"
      ]
     },
     "execution_count": 36,
     "metadata": {},
     "output_type": "execute_result"
    }
   ],
   "source": [
    "y"
   ]
  },
  {
   "cell_type": "code",
   "execution_count": 37,
   "id": "c11c8a9d-a66a-422f-810f-c651c3c33392",
   "metadata": {},
   "outputs": [
    {
     "data": {
      "text/plain": [
       "120"
      ]
     },
     "execution_count": 37,
     "metadata": {},
     "output_type": "execute_result"
    }
   ],
   "source": [
    "z"
   ]
  },
  {
   "cell_type": "code",
   "execution_count": 38,
   "id": "2e7aff7c-bf22-47ce-973a-0bc5aa2fe311",
   "metadata": {},
   "outputs": [],
   "source": [
    "a, b, c= 129, 'Nasim', 123.67"
   ]
  },
  {
   "cell_type": "code",
   "execution_count": 39,
   "id": "9cace2aa-56ca-4606-b419-5f45bbe211de",
   "metadata": {},
   "outputs": [
    {
     "data": {
      "text/plain": [
       "129"
      ]
     },
     "execution_count": 39,
     "metadata": {},
     "output_type": "execute_result"
    }
   ],
   "source": [
    "a"
   ]
  },
  {
   "cell_type": "code",
   "execution_count": 40,
   "id": "558c38c0-9d89-491c-b62d-fa62741d35df",
   "metadata": {},
   "outputs": [
    {
     "data": {
      "text/plain": [
       "'Nasim'"
      ]
     },
     "execution_count": 40,
     "metadata": {},
     "output_type": "execute_result"
    }
   ],
   "source": [
    "b"
   ]
  },
  {
   "cell_type": "code",
   "execution_count": 41,
   "id": "4ff90d17-ec09-4db5-985c-e803e2307280",
   "metadata": {},
   "outputs": [
    {
     "data": {
      "text/plain": [
       "123.67"
      ]
     },
     "execution_count": 41,
     "metadata": {},
     "output_type": "execute_result"
    }
   ],
   "source": [
    "c"
   ]
  },
  {
   "cell_type": "code",
   "execution_count": 42,
   "id": "97c34cf8-c41a-4f49-81fe-1d5ebd4f807b",
   "metadata": {},
   "outputs": [],
   "source": [
    "# Multi Word Variable Name\n",
    "\n",
    "# 1. camelCaseVar\n",
    "# 2. PascalCaseVar\n",
    "# 3. snake_case_var\n"
   ]
  },
  {
   "cell_type": "code",
   "execution_count": 43,
   "id": "0f4ea498-52ed-4aee-9478-d0b0836f0709",
   "metadata": {},
   "outputs": [],
   "source": [
    "varsityIdVar=1902399"
   ]
  },
  {
   "cell_type": "code",
   "execution_count": 44,
   "id": "ece4153b-532c-4aff-8f1c-fbc510084d0d",
   "metadata": {},
   "outputs": [
    {
     "data": {
      "text/plain": [
       "1902399"
      ]
     },
     "execution_count": 44,
     "metadata": {},
     "output_type": "execute_result"
    }
   ],
   "source": [
    "varsityIdVar"
   ]
  },
  {
   "cell_type": "code",
   "execution_count": 50,
   "id": "3f8c802f-5d6d-4a31-955c-890140a12737",
   "metadata": {},
   "outputs": [],
   "source": [
    "VarsityIdVar=123"
   ]
  },
  {
   "cell_type": "code",
   "execution_count": 51,
   "id": "ea1ad68e-30a8-4185-b731-1202e0b5b718",
   "metadata": {},
   "outputs": [
    {
     "data": {
      "text/plain": [
       "123"
      ]
     },
     "execution_count": 51,
     "metadata": {},
     "output_type": "execute_result"
    }
   ],
   "source": [
    "VarsityIdVar"
   ]
  },
  {
   "cell_type": "code",
   "execution_count": 48,
   "id": "4bfac16b-424d-45fa-ad02-a02c130e0c65",
   "metadata": {},
   "outputs": [],
   "source": [
    "varsity_id_var=345"
   ]
  },
  {
   "cell_type": "code",
   "execution_count": 49,
   "id": "3e12c0d9-bf7c-475a-8879-3e95a7e93fe7",
   "metadata": {},
   "outputs": [
    {
     "data": {
      "text/plain": [
       "345"
      ]
     },
     "execution_count": 49,
     "metadata": {},
     "output_type": "execute_result"
    }
   ],
   "source": [
    "varsity_id_var"
   ]
  },
  {
   "cell_type": "code",
   "execution_count": 57,
   "id": "c4250566-1f87-42d7-af15-f549d81619b3",
   "metadata": {},
   "outputs": [],
   "source": [
    "# Global Variable vs Local Variable\n",
    "\n",
    "#Global variable\n",
    "\n"
   ]
  },
  {
   "cell_type": "code",
   "execution_count": null,
   "id": "e660e831-f8ff-43a5-ad0c-f16912982c67",
   "metadata": {},
   "outputs": [],
   "source": []
  },
  {
   "cell_type": "code",
   "execution_count": null,
   "id": "5aa11146-62ea-4004-9c52-69075b18155e",
   "metadata": {},
   "outputs": [],
   "source": []
  }
 ],
 "metadata": {
  "kernelspec": {
   "display_name": "Python 3 (ipykernel)",
   "language": "python",
   "name": "python3"
  },
  "language_info": {
   "codemirror_mode": {
    "name": "ipython",
    "version": 3
   },
   "file_extension": ".py",
   "mimetype": "text/x-python",
   "name": "python",
   "nbconvert_exporter": "python",
   "pygments_lexer": "ipython3",
   "version": "3.12.4"
  }
 },
 "nbformat": 4,
 "nbformat_minor": 5
}
